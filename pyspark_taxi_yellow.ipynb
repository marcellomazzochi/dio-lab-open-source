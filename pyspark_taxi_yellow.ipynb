{
  "nbformat": 4,
  "nbformat_minor": 0,
  "metadata": {
    "colab": {
      "provenance": [],
      "authorship_tag": "ABX9TyMOqfrSLx94CIyzLQk4udLt",
      "include_colab_link": true
    },
    "kernelspec": {
      "name": "python3",
      "display_name": "Python 3"
    },
    "language_info": {
      "name": "python"
    }
  },
  "cells": [
    {
      "cell_type": "markdown",
      "metadata": {
        "id": "view-in-github",
        "colab_type": "text"
      },
      "source": [
        "<a href=\"https://colab.research.google.com/github/marcellomazzochi/dio-lab-open-source/blob/main/pyspark_taxi_yellow.ipynb\" target=\"_parent\"><img src=\"https://colab.research.google.com/assets/colab-badge.svg\" alt=\"Open In Colab\"/></a>"
      ]
    },
    {
      "cell_type": "code",
      "execution_count": null,
      "metadata": {
        "colab": {
          "base_uri": "https://localhost:8080/"
        },
        "id": "nGkLgPrjjkIj",
        "outputId": "36e1c815-1564-42de-d042-00546bdaf748"
      },
      "outputs": [
        {
          "output_type": "stream",
          "name": "stdout",
          "text": [
            "Collecting pyspark\n",
            "  Downloading pyspark-3.5.1.tar.gz (317.0 MB)\n",
            "\u001b[2K     \u001b[90m━━━━━━━━━━━━━━━━━━━━━━━━━━━━━━━━━━━━━━━━\u001b[0m \u001b[32m317.0/317.0 MB\u001b[0m \u001b[31m3.5 MB/s\u001b[0m eta \u001b[36m0:00:00\u001b[0m\n",
            "\u001b[?25h  Preparing metadata (setup.py) ... \u001b[?25l\u001b[?25hdone\n",
            "Requirement already satisfied: py4j==0.10.9.7 in /usr/local/lib/python3.10/dist-packages (from pyspark) (0.10.9.7)\n",
            "Building wheels for collected packages: pyspark\n",
            "  Building wheel for pyspark (setup.py) ... \u001b[?25l\u001b[?25hdone\n",
            "  Created wheel for pyspark: filename=pyspark-3.5.1-py2.py3-none-any.whl size=317488491 sha256=80eb6008c8247f494d9c5efc078cc464f8e0217503959fd90ea1b30d096053e1\n",
            "  Stored in directory: /root/.cache/pip/wheels/80/1d/60/2c256ed38dddce2fdd93be545214a63e02fbd8d74fb0b7f3a6\n",
            "Successfully built pyspark\n",
            "Installing collected packages: pyspark\n",
            "Successfully installed pyspark-3.5.1\n"
          ]
        }
      ],
      "source": [
        "!pip install pyspark"
      ]
    },
    {
      "cell_type": "code",
      "source": [
        "!pip install wget\n",
        "!pip install findspark"
      ],
      "metadata": {
        "colab": {
          "base_uri": "https://localhost:8080/"
        },
        "id": "H86IN474kVi6",
        "outputId": "d4e63c8c-8e13-47b2-d838-7d22d5f04609"
      },
      "execution_count": null,
      "outputs": [
        {
          "output_type": "stream",
          "name": "stdout",
          "text": [
            "Collecting wget\n",
            "  Downloading wget-3.2.zip (10 kB)\n",
            "  Preparing metadata (setup.py) ... \u001b[?25l\u001b[?25hdone\n",
            "Building wheels for collected packages: wget\n",
            "  Building wheel for wget (setup.py) ... \u001b[?25l\u001b[?25hdone\n",
            "  Created wheel for wget: filename=wget-3.2-py3-none-any.whl size=9656 sha256=220010473c105bf8f3010a1107c5f17147b6a668ec974bca18f2c3df6773fb8a\n",
            "  Stored in directory: /root/.cache/pip/wheels/8b/f1/7f/5c94f0a7a505ca1c81cd1d9208ae2064675d97582078e6c769\n",
            "Successfully built wget\n",
            "Installing collected packages: wget\n",
            "Successfully installed wget-3.2\n",
            "Collecting findspark\n",
            "  Downloading findspark-2.0.1-py2.py3-none-any.whl (4.4 kB)\n",
            "Installing collected packages: findspark\n",
            "Successfully installed findspark-2.0.1\n"
          ]
        }
      ]
    },
    {
      "cell_type": "code",
      "source": [
        "from pyspark.sql import SparkSession\n",
        "from pyspark.sql.functions import *\n",
        "from pyspark.sql.types import TimestampType\n",
        "from pyspark.sql.window import Window\n",
        "import re\n",
        "import os"
      ],
      "metadata": {
        "id": "OQM4WgmQkrdy"
      },
      "execution_count": null,
      "outputs": []
    },
    {
      "cell_type": "code",
      "source": [
        "import findspark\n",
        "\n",
        "findspark.init()"
      ],
      "metadata": {
        "id": "PW7jEQo4kheU"
      },
      "execution_count": null,
      "outputs": []
    },
    {
      "cell_type": "code",
      "source": [
        "spark = SparkSession.builder.appName(\"TaxiAnalysis\").getOrCreate()\n"
      ],
      "metadata": {
        "id": "FZRc3Vb2kpAu"
      },
      "execution_count": null,
      "outputs": []
    },
    {
      "cell_type": "code",
      "source": [
        "!mkdir -p pasta_parquet\n",
        "\n",
        "!wget -O yellow_tripdata_2022-01.parquet https://d37ci6vzurychx.cloudfront.net/trip-data/yellow_tripdata_2022-01.parquet\n",
        "!wget -O yellow_tripdata_2022-02.parquet https://d37ci6vzurychx.cloudfront.net/trip-data/yellow_tripdata_2022-02.parquet\n",
        "!wget -O yellow_tripdata_2022-03.parquet https://d37ci6vzurychx.cloudfront.net/trip-data/yellow_tripdata_2022-03.parquet\n",
        "!wget -O yellow_tripdata_2022-04.parquet https://d37ci6vzurychx.cloudfront.net/trip-data/yellow_tripdata_2022-04.parquet\n",
        "!wget -O yellow_tripdata_2022-05.parquet https://d37ci6vzurychx.cloudfront.net/trip-data/yellow_tripdata_2022-05.parquet\n",
        "!wget -O yellow_tripdata_2022-06.parquet https://d37ci6vzurychx.cloudfront.net/trip-data/yellow_tripdata_2022-06.parquet\n",
        "!wget -O yellow_tripdata_2022-07.parquet https://d37ci6vzurychx.cloudfront.net/trip-data/yellow_tripdata_2022-07.parquet\n",
        "!wget -O yellow_tripdata_2022-08.parquet https://d37ci6vzurychx.cloudfront.net/trip-data/yellow_tripdata_2022-08.parquet\n",
        "!wget -O yellow_tripdata_2022-09.parquet https://d37ci6vzurychx.cloudfront.net/trip-data/yellow_tripdata_2022-09.parquet\n",
        "!wget -O yellow_tripdata_2022-10.parquet https://d37ci6vzurychx.cloudfront.net/trip-data/yellow_tripdata_2022-10.parquet\n",
        "!wget -O yellow_tripdata_2022-11.parquet https://d37ci6vzurychx.cloudfront.net/trip-data/yellow_tripdata_2022-11.parquet\n",
        "!wget -O yellow_tripdata_2022-12.parquet https://d37ci6vzurychx.cloudfront.net/trip-data/yellow_tripdata_2022-12.parquet\n",
        "!wget -O /content/taxi_zone_lookup.csv https://d37ci6vzurychx.cloudfront.net/misc/taxi_zone_lookup.csv\n",
        "\n",
        "!mv yellow_tripdata_2022-*.parquet pasta_parquet/"
      ],
      "metadata": {
        "colab": {
          "base_uri": "https://localhost:8080/"
        },
        "id": "w8i_o43dnMrN",
        "outputId": "2cf47142-7322-4a24-9d1f-62e5601fc1a4"
      },
      "execution_count": null,
      "outputs": [
        {
          "output_type": "stream",
          "name": "stdout",
          "text": [
            "--2024-07-07 00:20:36--  https://d37ci6vzurychx.cloudfront.net/trip-data/yellow_tripdata_2022-01.parquet\n",
            "Resolving d37ci6vzurychx.cloudfront.net (d37ci6vzurychx.cloudfront.net)... 3.163.157.133, 3.163.157.7, 3.163.157.72, ...\n",
            "Connecting to d37ci6vzurychx.cloudfront.net (d37ci6vzurychx.cloudfront.net)|3.163.157.133|:443... connected.\n",
            "HTTP request sent, awaiting response... 200 OK\n",
            "Length: 38139949 (36M) [application/x-www-form-urlencoded]\n",
            "Saving to: ‘yellow_tripdata_2022-01.parquet’\n",
            "\n",
            "yellow_tripdata_202 100%[===================>]  36.37M  17.8MB/s    in 2.0s    \n",
            "\n",
            "2024-07-07 00:20:39 (17.8 MB/s) - ‘yellow_tripdata_2022-01.parquet’ saved [38139949/38139949]\n",
            "\n",
            "--2024-07-07 00:20:39--  https://d37ci6vzurychx.cloudfront.net/trip-data/yellow_tripdata_2022-02.parquet\n",
            "Resolving d37ci6vzurychx.cloudfront.net (d37ci6vzurychx.cloudfront.net)... 3.163.157.133, 3.163.157.7, 3.163.157.72, ...\n",
            "Connecting to d37ci6vzurychx.cloudfront.net (d37ci6vzurychx.cloudfront.net)|3.163.157.133|:443... connected.\n",
            "HTTP request sent, awaiting response... 200 OK\n",
            "Length: 45616512 (44M) [application/x-www-form-urlencoded]\n",
            "Saving to: ‘yellow_tripdata_2022-02.parquet’\n",
            "\n",
            "yellow_tripdata_202 100%[===================>]  43.50M  18.7MB/s    in 2.3s    \n",
            "\n",
            "2024-07-07 00:20:42 (18.7 MB/s) - ‘yellow_tripdata_2022-02.parquet’ saved [45616512/45616512]\n",
            "\n",
            "--2024-07-07 00:20:42--  https://d37ci6vzurychx.cloudfront.net/trip-data/yellow_tripdata_2022-03.parquet\n",
            "Resolving d37ci6vzurychx.cloudfront.net (d37ci6vzurychx.cloudfront.net)... 3.163.157.133, 3.163.157.7, 3.163.157.72, ...\n",
            "Connecting to d37ci6vzurychx.cloudfront.net (d37ci6vzurychx.cloudfront.net)|3.163.157.133|:443... connected.\n",
            "HTTP request sent, awaiting response... 200 OK\n",
            "Length: 55682369 (53M) [application/x-www-form-urlencoded]\n",
            "Saving to: ‘yellow_tripdata_2022-03.parquet’\n",
            "\n",
            "yellow_tripdata_202 100%[===================>]  53.10M  20.6MB/s    in 2.6s    \n",
            "\n",
            "2024-07-07 00:20:46 (20.6 MB/s) - ‘yellow_tripdata_2022-03.parquet’ saved [55682369/55682369]\n",
            "\n",
            "--2024-07-07 00:20:46--  https://d37ci6vzurychx.cloudfront.net/trip-data/yellow_tripdata_2022-04.parquet\n",
            "Resolving d37ci6vzurychx.cloudfront.net (d37ci6vzurychx.cloudfront.net)... 3.163.157.133, 3.163.157.7, 3.163.157.72, ...\n",
            "Connecting to d37ci6vzurychx.cloudfront.net (d37ci6vzurychx.cloudfront.net)|3.163.157.133|:443... connected.\n",
            "HTTP request sent, awaiting response... 200 OK\n",
            "Length: 55222692 (53M) [application/x-www-form-urlencoded]\n",
            "Saving to: ‘yellow_tripdata_2022-04.parquet’\n",
            "\n",
            "yellow_tripdata_202 100%[===================>]  52.66M  21.0MB/s    in 2.5s    \n",
            "\n",
            "2024-07-07 00:20:49 (21.0 MB/s) - ‘yellow_tripdata_2022-04.parquet’ saved [55222692/55222692]\n",
            "\n",
            "--2024-07-07 00:20:49--  https://d37ci6vzurychx.cloudfront.net/trip-data/yellow_tripdata_2022-05.parquet\n",
            "Resolving d37ci6vzurychx.cloudfront.net (d37ci6vzurychx.cloudfront.net)... 3.163.157.133, 3.163.157.7, 3.163.157.72, ...\n",
            "Connecting to d37ci6vzurychx.cloudfront.net (d37ci6vzurychx.cloudfront.net)|3.163.157.133|:443... connected.\n",
            "HTTP request sent, awaiting response... 200 OK\n",
            "Length: 55558821 (53M) [application/x-www-form-urlencoded]\n",
            "Saving to: ‘yellow_tripdata_2022-05.parquet’\n",
            "\n",
            "yellow_tripdata_202 100%[===================>]  52.98M  21.8MB/s    in 2.4s    \n",
            "\n",
            "2024-07-07 00:20:52 (21.8 MB/s) - ‘yellow_tripdata_2022-05.parquet’ saved [55558821/55558821]\n",
            "\n",
            "--2024-07-07 00:20:52--  https://d37ci6vzurychx.cloudfront.net/trip-data/yellow_tripdata_2022-06.parquet\n",
            "Resolving d37ci6vzurychx.cloudfront.net (d37ci6vzurychx.cloudfront.net)... 3.163.157.133, 3.163.157.7, 3.163.157.72, ...\n",
            "Connecting to d37ci6vzurychx.cloudfront.net (d37ci6vzurychx.cloudfront.net)|3.163.157.133|:443... connected.\n",
            "HTTP request sent, awaiting response... 200 OK\n",
            "Length: 55365184 (53M) [application/x-www-form-urlencoded]\n",
            "Saving to: ‘yellow_tripdata_2022-06.parquet’\n",
            "\n",
            "yellow_tripdata_202 100%[===================>]  52.80M  21.4MB/s    in 2.5s    \n",
            "\n",
            "2024-07-07 00:20:56 (21.4 MB/s) - ‘yellow_tripdata_2022-06.parquet’ saved [55365184/55365184]\n",
            "\n",
            "--2024-07-07 00:20:56--  https://d37ci6vzurychx.cloudfront.net/trip-data/yellow_tripdata_2022-07.parquet\n",
            "Resolving d37ci6vzurychx.cloudfront.net (d37ci6vzurychx.cloudfront.net)... 3.163.157.133, 3.163.157.7, 3.163.157.72, ...\n",
            "Connecting to d37ci6vzurychx.cloudfront.net (d37ci6vzurychx.cloudfront.net)|3.163.157.133|:443... connected.\n",
            "HTTP request sent, awaiting response... 200 OK\n",
            "Length: 49367712 (47M) [application/x-www-form-urlencoded]\n",
            "Saving to: ‘yellow_tripdata_2022-07.parquet’\n",
            "\n",
            "yellow_tripdata_202 100%[===================>]  47.08M  19.9MB/s    in 2.4s    \n",
            "\n",
            "2024-07-07 00:20:59 (19.9 MB/s) - ‘yellow_tripdata_2022-07.parquet’ saved [49367712/49367712]\n",
            "\n",
            "--2024-07-07 00:20:59--  https://d37ci6vzurychx.cloudfront.net/trip-data/yellow_tripdata_2022-08.parquet\n",
            "Resolving d37ci6vzurychx.cloudfront.net (d37ci6vzurychx.cloudfront.net)... 3.163.157.133, 3.163.157.7, 3.163.157.72, ...\n",
            "Connecting to d37ci6vzurychx.cloudfront.net (d37ci6vzurychx.cloudfront.net)|3.163.157.133|:443... connected.\n",
            "HTTP request sent, awaiting response... 200 OK\n",
            "Length: 49717159 (47M) [application/x-www-form-urlencoded]\n",
            "Saving to: ‘yellow_tripdata_2022-08.parquet’\n",
            "\n",
            "yellow_tripdata_202 100%[===================>]  47.41M  20.2MB/s    in 2.3s    \n",
            "\n",
            "2024-07-07 00:21:02 (20.2 MB/s) - ‘yellow_tripdata_2022-08.parquet’ saved [49717159/49717159]\n",
            "\n",
            "--2024-07-07 00:21:02--  https://d37ci6vzurychx.cloudfront.net/trip-data/yellow_tripdata_2022-09.parquet\n",
            "Resolving d37ci6vzurychx.cloudfront.net (d37ci6vzurychx.cloudfront.net)... 3.163.157.133, 3.163.157.7, 3.163.157.72, ...\n",
            "Connecting to d37ci6vzurychx.cloudfront.net (d37ci6vzurychx.cloudfront.net)|3.163.157.133|:443... connected.\n",
            "HTTP request sent, awaiting response... 200 OK\n",
            "Length: 49619957 (47M) [application/x-www-form-urlencoded]\n",
            "Saving to: ‘yellow_tripdata_2022-09.parquet’\n",
            "\n",
            "yellow_tripdata_202 100%[===================>]  47.32M  20.0MB/s    in 2.4s    \n",
            "\n",
            "2024-07-07 00:21:05 (20.0 MB/s) - ‘yellow_tripdata_2022-09.parquet’ saved [49619957/49619957]\n",
            "\n",
            "--2024-07-07 00:21:05--  https://d37ci6vzurychx.cloudfront.net/trip-data/yellow_tripdata_2022-10.parquet\n",
            "Resolving d37ci6vzurychx.cloudfront.net (d37ci6vzurychx.cloudfront.net)... 3.163.157.133, 3.163.157.7, 3.163.157.72, ...\n",
            "Connecting to d37ci6vzurychx.cloudfront.net (d37ci6vzurychx.cloudfront.net)|3.163.157.133|:443... connected.\n",
            "HTTP request sent, awaiting response... 200 OK\n",
            "Length: 57061938 (54M) [application/x-www-form-urlencoded]\n",
            "Saving to: ‘yellow_tripdata_2022-10.parquet’\n",
            "\n",
            "yellow_tripdata_202 100%[===================>]  54.42M  21.0MB/s    in 2.6s    \n",
            "\n",
            "2024-07-07 00:21:09 (21.0 MB/s) - ‘yellow_tripdata_2022-10.parquet’ saved [57061938/57061938]\n",
            "\n",
            "--2024-07-07 00:21:09--  https://d37ci6vzurychx.cloudfront.net/trip-data/yellow_tripdata_2022-11.parquet\n",
            "Resolving d37ci6vzurychx.cloudfront.net (d37ci6vzurychx.cloudfront.net)... 3.163.157.133, 3.163.157.7, 3.163.157.72, ...\n",
            "Connecting to d37ci6vzurychx.cloudfront.net (d37ci6vzurychx.cloudfront.net)|3.163.157.133|:443... connected.\n",
            "HTTP request sent, awaiting response... 200 OK\n",
            "Length: 50106631 (48M) [application/x-www-form-urlencoded]\n",
            "Saving to: ‘yellow_tripdata_2022-11.parquet’\n",
            "\n",
            "yellow_tripdata_202 100%[===================>]  47.79M  19.9MB/s    in 2.4s    \n",
            "\n",
            "2024-07-07 00:21:12 (19.9 MB/s) - ‘yellow_tripdata_2022-11.parquet’ saved [50106631/50106631]\n",
            "\n",
            "--2024-07-07 00:21:12--  https://d37ci6vzurychx.cloudfront.net/trip-data/yellow_tripdata_2022-12.parquet\n",
            "Resolving d37ci6vzurychx.cloudfront.net (d37ci6vzurychx.cloudfront.net)... 3.163.157.96, 3.163.157.7, 3.163.157.133, ...\n",
            "Connecting to d37ci6vzurychx.cloudfront.net (d37ci6vzurychx.cloudfront.net)|3.163.157.96|:443... connected.\n",
            "HTTP request sent, awaiting response... 200 OK\n",
            "Length: 53640739 (51M) [application/x-www-form-urlencoded]\n",
            "Saving to: ‘yellow_tripdata_2022-12.parquet’\n",
            "\n",
            "yellow_tripdata_202 100%[===================>]  51.16M  21.1MB/s    in 2.4s    \n",
            "\n",
            "2024-07-07 00:21:15 (21.1 MB/s) - ‘yellow_tripdata_2022-12.parquet’ saved [53640739/53640739]\n",
            "\n",
            "--2024-07-07 00:21:15--  https://d37ci6vzurychx.cloudfront.net/misc/taxi_zone_lookup.csv\n",
            "Resolving d37ci6vzurychx.cloudfront.net (d37ci6vzurychx.cloudfront.net)... 3.163.157.96, 3.163.157.7, 3.163.157.133, ...\n",
            "Connecting to d37ci6vzurychx.cloudfront.net (d37ci6vzurychx.cloudfront.net)|3.163.157.96|:443... connected.\n",
            "HTTP request sent, awaiting response... 200 OK\n",
            "Length: 12331 (12K) [text/csv]\n",
            "Saving to: ‘/content/taxi_zone_lookup.csv’\n",
            "\n",
            "/content/taxi_zone_ 100%[===================>]  12.04K  --.-KB/s    in 0.01s   \n",
            "\n",
            "2024-07-07 00:21:16 (1.18 MB/s) - ‘/content/taxi_zone_lookup.csv’ saved [12331/12331]\n",
            "\n"
          ]
        }
      ]
    },
    {
      "cell_type": "code",
      "source": [
        "!ls /content/pasta_parquet  # Deverá mostrar 'pasta_parquet' e talvez outros arquivos\n"
      ],
      "metadata": {
        "colab": {
          "base_uri": "https://localhost:8080/"
        },
        "id": "TshV1TmSnqIF",
        "outputId": "8f91838c-5bbe-4cda-fa15-bcfb843fa4b8"
      },
      "execution_count": null,
      "outputs": [
        {
          "output_type": "stream",
          "name": "stdout",
          "text": [
            "yellow_tripdata_2022-01.parquet  yellow_tripdata_2022-05.parquet  yellow_tripdata_2022-09.parquet\n",
            "yellow_tripdata_2022-02.parquet  yellow_tripdata_2022-06.parquet  yellow_tripdata_2022-10.parquet\n",
            "yellow_tripdata_2022-03.parquet  yellow_tripdata_2022-07.parquet  yellow_tripdata_2022-11.parquet\n",
            "yellow_tripdata_2022-04.parquet  yellow_tripdata_2022-08.parquet  yellow_tripdata_2022-12.parquet\n"
          ]
        }
      ]
    },
    {
      "cell_type": "code",
      "source": [
        "yellow_tripdata_df = spark.read.parquet(\"/content/pasta_parquet/yellow_tripdata_2022-*.parquet\")\n",
        "\n",
        "# Carregar os dados de lookup de zona de táxi\n",
        "taxi_zone_lookup_df = spark.read.csv(\"/content/taxi_zone_lookup.csv\", header=True, inferSchema=True)\n",
        "\n",
        "# Filtrar viagens de 2022\n",
        "filtered_data = yellow_tripdata_df.filter(year(\"tpep_pickup_datetime\") == 2022)\n",
        "\n",
        "# Realizar join entre yellow_tripdata e taxi_zone_lookup com base em DOLocationID e LocationID\n",
        "joined_df = filtered_data.join(taxi_zone_lookup_df, filtered_data.DOLocationID == taxi_zone_lookup_df.LocationID)\n",
        "\n",
        "# Selecionar colunas necessárias, extrair o mês e contar as viagens por VendorID, mês, Borough e DOLocationID\n",
        "aggregated_df = joined_df.select(\n",
        "    \"VendorID\",\n",
        "    month(\"tpep_pickup_datetime\").alias(\"month\"),\n",
        "    \"Borough\",\n",
        "    \"DOLocationID\"\n",
        ").groupBy(\"VendorID\", \"month\", \"Borough\").agg(\n",
        "    count(\"DOLocationID\").alias(\"count\")\n",
        ")\n",
        "\n",
        "# Usar window function para encontrar o DOLocationID mais frequente por VendorID e mês\n",
        "window_spec = Window.partitionBy(\"VendorID\", \"month\").orderBy(col(\"count\").desc())\n",
        "result_df = aggregated_df.withColumn(\"rank\", rank().over(window_spec)).filter(col(\"rank\") == 1)\n",
        "\n",
        "# Selecionar as colunas finais e mostrar os resultados\n",
        "final_df = result_df.select(\"VendorID\", \"Borough\", \"month\", \"count\").orderBy(\"VendorID\", \"month\")\n",
        "final_df.show()\n"
      ],
      "metadata": {
        "colab": {
          "base_uri": "https://localhost:8080/"
        },
        "id": "68I6fJVZm4It",
        "outputId": "c44303bb-7e9e-4cdf-a39f-f282da109a5a"
      },
      "execution_count": null,
      "outputs": [
        {
          "output_type": "stream",
          "name": "stdout",
          "text": [
            "+--------+---------+-----+-------+\n",
            "|VendorID|  Borough|month|  count|\n",
            "+--------+---------+-----+-------+\n",
            "|       1|Manhattan|    1| 667217|\n",
            "|       1|Manhattan|    2| 804657|\n",
            "|       1|Manhattan|    3| 955646|\n",
            "|       1|Manhattan|    4| 932534|\n",
            "|       1|Manhattan|    5| 935181|\n",
            "|       1|Manhattan|    6| 923917|\n",
            "|       1|Manhattan|    7| 805781|\n",
            "|       1|Manhattan|    8| 777611|\n",
            "|       1|Manhattan|    9| 798752|\n",
            "|       1|Manhattan|   10| 935121|\n",
            "|       1|Manhattan|   11| 662457|\n",
            "|       1|Manhattan|   12| 835756|\n",
            "|       2|Manhattan|    1|1544045|\n",
            "|       2|Manhattan|    2|1877736|\n",
            "|       2|Manhattan|    3|2278202|\n",
            "|       2|Manhattan|    4|2258539|\n",
            "|       2|Manhattan|    5|2210646|\n",
            "|       2|Manhattan|    6|2201578|\n",
            "|       2|Manhattan|    7|1979882|\n",
            "|       2|Manhattan|    8|1977520|\n",
            "+--------+---------+-----+-------+\n",
            "only showing top 20 rows\n",
            "\n"
          ]
        }
      ]
    },
    {
      "cell_type": "code",
      "source": [
        "import pyspark.sql.functions as F\n"
      ],
      "metadata": {
        "id": "Nt5KAidaq8SL"
      },
      "execution_count": null,
      "outputs": []
    },
    {
      "cell_type": "code",
      "source": [
        "yellow_tripdata_df_2022 = yellow_tripdata_df.filter(year(col(\"tpep_pickup_datetime\")) == 2022)\n",
        "\n",
        "# Realizar a união com a tabela taxi_zone_lookup com base no DOLocationID e LocationID\n",
        "joined_df = yellow_tripdata_df_2022.join(taxi_zone_lookup_df, yellow_tripdata_df_2022.DOLocationID == taxi_zone_lookup_df.LocationID, \"inner\")\n",
        "\n",
        "# Adicionar colunas de ano e mês\n",
        "joined_df = joined_df.withColumn(\"year\", year(col(\"tpep_pickup_datetime\")))\n",
        "joined_df = joined_df.withColumn(\"month\", month(col(\"tpep_pickup_datetime\")))\n",
        "\n",
        "# Agrupar por VendorID, Borough e month, e contar o número de ocorrências\n",
        "grouped_df = joined_df.groupBy(\"VendorID\", \"Borough\", \"month\").agg(count(\"*\").alias(\"count\"))\n",
        "\n",
        "# Utilizar janela para obter o DOLocationID mais frequente por mês para cada VendorID\n",
        "window_spec = Window.partitionBy(\"VendorID\", \"month\").orderBy(col(\"count\").desc())\n",
        "\n",
        "# Adicionar a coluna rank para determinar o DOLocationID mais frequente\n",
        "ranked_df = grouped_df.withColumn(\"rank\", F.rank().over(window_spec))\n",
        "\n",
        "# Filtrar apenas os registros com rank 1 (mais frequente)\n",
        "most_frequent_df = ranked_df.filter(col(\"rank\") == 1).select(\"VendorID\", \"Borough\", \"count\", \"month\")\n",
        "\n",
        "# Mostrar o resultado\n",
        "most_frequent_df.show()\n"
      ],
      "metadata": {
        "colab": {
          "base_uri": "https://localhost:8080/"
        },
        "id": "JUZXXAOhq5bv",
        "outputId": "599336de-aa29-4509-fecb-08a30af405fd"
      },
      "execution_count": null,
      "outputs": [
        {
          "output_type": "stream",
          "name": "stdout",
          "text": [
            "+--------+---------+-------+-----+\n",
            "|VendorID|  Borough|  count|month|\n",
            "+--------+---------+-------+-----+\n",
            "|       1|Manhattan| 667217|    1|\n",
            "|       1|Manhattan| 804657|    2|\n",
            "|       1|Manhattan| 955646|    3|\n",
            "|       1|Manhattan| 932534|    4|\n",
            "|       1|Manhattan| 935181|    5|\n",
            "|       1|Manhattan| 923917|    6|\n",
            "|       1|Manhattan| 805781|    7|\n",
            "|       1|Manhattan| 777611|    8|\n",
            "|       1|Manhattan| 798752|    9|\n",
            "|       1|Manhattan| 935121|   10|\n",
            "|       1|Manhattan| 662457|   11|\n",
            "|       1|Manhattan| 835756|   12|\n",
            "|       2|Manhattan|1544045|    1|\n",
            "|       2|Manhattan|1877736|    2|\n",
            "|       2|Manhattan|2278202|    3|\n",
            "|       2|Manhattan|2258539|    4|\n",
            "|       2|Manhattan|2210646|    5|\n",
            "|       2|Manhattan|2201578|    6|\n",
            "|       2|Manhattan|1979882|    7|\n",
            "|       2|Manhattan|1977520|    8|\n",
            "+--------+---------+-------+-----+\n",
            "only showing top 20 rows\n",
            "\n"
          ]
        }
      ]
    },
    {
      "cell_type": "code",
      "source": [
        "from pyspark.sql.functions import year, month, col\n",
        "\n",
        "# Carregar os dados de viagem\n",
        "yellow_tripdata_df = spark.read.parquet(\"/content/pasta_parquet/yellow_tripdata_2022-*.parquet\")\n",
        "\n",
        "# Carregar os dados de lookup de zona de táxi\n",
        "taxi_zone_lookup_df = spark.read.csv(\"/content/taxi_zone_lookup.csv\", header=True, inferSchema=True)\n",
        "\n",
        "# Filtrar viagens de 2022\n",
        "filtered_trips = yellow_tripdata_df.filter(year(\"tpep_pickup_datetime\") == 2022)\n",
        "\n",
        "# Join das tabelas por DOLocationID e LocationID\n",
        "joined_df = filtered_trips.join(\n",
        "    taxi_zone_lookup_df,\n",
        "    filtered_trips.DOLocationID == taxi_zone_lookup_df.LocationID,\n",
        "    \"inner\"\n",
        ")\n",
        "\n",
        "# Selecionar colunas necessárias e extrair o mês do campo datetime\n",
        "selected_df = joined_df.select(\n",
        "    \"VendorID\",\n",
        "    \"Borough\",\n",
        "    month(\"tpep_pickup_datetime\").alias(\"month\"),\n",
        "    \"DOLocationID\"\n",
        ")\n",
        "\n",
        "# Agrupar por VendorID, Borough, e mês, e contar as viagens\n",
        "grouped_df = selected_df.groupBy(\"VendorID\", \"Borough\", \"month\").count()\n",
        "\n",
        "# Registrar o DataFrame como uma tabela temporária para usar spark.sql\n",
        "grouped_df.createOrReplaceTempView(\"trip_summary\")\n",
        "\n",
        "# Consultar os top 5 destinos por taxista por mês usando Spark SQL\n",
        "result_df = spark.sql(\"\"\"\n",
        "SELECT VendorID, Borough, month, count\n",
        "FROM (\n",
        "    SELECT VendorID, Borough, month, count,\n",
        "           ROW_NUMBER() OVER (PARTITION BY VendorID, month ORDER BY count DESC) as rank\n",
        "    FROM trip_summary\n",
        ") ranked\n",
        "WHERE rank <= 5\n",
        "\"\"\")\n",
        "\n",
        "result_df.show()\n"
      ],
      "metadata": {
        "id": "LEV4MUh5toGc"
      },
      "execution_count": null,
      "outputs": []
    },
    {
      "cell_type": "code",
      "source": [
        "yellow_tripdata_df = spark.read.parquet(\"/content/pasta_parquet/yellow_tripdata_2022-*.parquet\")\n",
        "\n",
        "# Carregar os dados de lookup de zona de táxi\n",
        "taxi_zone_lookup_df = spark.read.csv(\"/content/taxi_zone_lookup.csv\", header=True, inferSchema=True)\n",
        "\n",
        "# Filtrar viagens de 2022\n",
        "yellow_tripdata_df_2022 = yellow_tripdata_df.filter(year(col(\"tpep_pickup_datetime\")) == 2022)\n",
        "\n",
        "# Realizar a união com a tabela taxi_zone_lookup com base no DOLocationID e LocationID\n",
        "joined_df = yellow_tripdata_df_2022.join(\n",
        "    taxi_zone_lookup_df,\n",
        "    yellow_tripdata_df_2022.DOLocationID == taxi_zone_lookup_df.LocationID,\n",
        "    \"inner\"\n",
        ")\n",
        "\n",
        "# Adicionar colunas de ano e mês\n",
        "joined_df = joined_df.withColumn(\"year\", year(col(\"tpep_pickup_datetime\")))\n",
        "joined_df = joined_df.withColumn(\"month\", month(col(\"tpep_pickup_datetime\")))\n",
        "\n",
        "# Agrupar por VendorID, Borough e month, e contar o número de ocorrências\n",
        "grouped_df = joined_df.groupBy(\"VendorID\", \"Borough\", \"month\").agg(count(\"*\").alias(\"count\"))\n",
        "\n",
        "# Utilizar janela para obter o rank por contagem de viagens\n",
        "window_spec = Window.partitionBy(\"VendorID\", \"month\").orderBy(col(\"count\").desc())\n",
        "\n",
        "# Adicionar a coluna rank para determinar os top destinos mais frequentes\n",
        "ranked_df = grouped_df.withColumn(\"rank\", F.rank().over(window_spec))\n",
        "\n",
        "# Filtrar apenas os registros com rank 1 (mais frequente) e VendorID igual a 1\n",
        "most_frequent_df = ranked_df.filter((col(\"rank\") == 1) & (col(\"VendorID\") == 1))\n",
        "\n",
        "# Selecionar colunas relevantes\n",
        "final_df = most_frequent_df.select(\"VendorID\", \"Borough\", \"count\", \"month\")\n",
        "\n",
        "# Mostrar o resultado\n",
        "final_df.show()\n"
      ],
      "metadata": {
        "id": "NlScXi96uL94"
      },
      "execution_count": null,
      "outputs": []
    },
    {
      "cell_type": "code",
      "source": [
        "yellow_tripdata_df_2022 = yellow_tripdata_df.filter(year(col(\"tpep_pickup_datetime\")) == 2022)\n",
        "joined_df = yellow_tripdata_df_2022.join(taxi_zone_lookup_df, yellow_tripdata_df_2022.DOLocationID == taxi_zone_lookup_df.LocationID)\n"
      ],
      "metadata": {
        "id": "MlxEfC7Dwaxw"
      },
      "execution_count": null,
      "outputs": []
    },
    {
      "cell_type": "code",
      "source": [
        "yellow_tripdata_df_2022 = yellow_tripdata_df.filter(year(col(\"tpep_pickup_datetime\")) == 2022)\n",
        "joined_df = yellow_tripdata_df_2022.join(taxi_zone_lookup_df, yellow_tripdata_df_2022.DOLocationID == taxi_zone_lookup_df.LocationID)\n",
        "aggregated_df = joined_df.select(\n",
        "    \"VendorID\",\n",
        "    month(\"tpep_pickup_datetime\").alias(\"month\"),\n",
        "    \"Borough\",\n",
        "    \"DOLocationID\"\n",
        ").groupBy(\"VendorID\", \"month\", \"Borough\").agg(\n",
        "    count(\"DOLocationID\").alias(\"count\")\n",
        ")\n",
        "\n",
        "# Usar window function para encontrar o DOLocationID mais frequente por VendorID e mês\n",
        "window_spec = Window.partitionBy(\"VendorID\", \"month\").orderBy(col(\"count\").desc())\n",
        "result_df = aggregated_df.withColumn(\"rank\", rank().over(window_spec)).filter(col(\"rank\") == 1)\n",
        "\n",
        "# Selecionar as colunas finais e mostrar os resultados\n",
        "final_df = result_df.select(\"VendorID\", \"Borough\", \"month\", \"count\").orderBy(\"VendorID\", \"month\")\n",
        "final_df.show()\n"
      ],
      "metadata": {
        "id": "rkR3f0rqyHvF"
      },
      "execution_count": null,
      "outputs": []
    },
    {
      "cell_type": "code",
      "source": [
        "joined_df = joined_df.withColumn(\"year\", year(col(\"tpep_pickup_datetime\")))\n",
        "joined_df = joined_df.withColumn(\"month\", month(col(\"tpep_pickup_datetime\")))\n",
        "\n",
        "# Agrupar por VendorID, Borough e month, e contar o número de ocorrências\n",
        "grouped_df = joined_df.groupBy(\"VendorID\", \"Borough\", \"month\").agg(count(\"*\").alias(\"count\"))\n",
        "\n",
        "# Utilizar janela para obter o DOLocationID mais frequente por mês para cada VendorID\n",
        "window_spec = Window.partitionBy(\"VendorID\", \"month\").orderBy(col(\"count\").desc())\n",
        "\n",
        "# Adicionar a coluna rank para determinar o DOLocationID mais frequente\n",
        "ranked_df = grouped_df.withColumn(\"rank\", F.rank().over(window_spec))\n",
        "\n",
        "# Filtrar apenas os registros com rank 1 (mais frequente)\n",
        "most_frequent_df = ranked_df.filter(col(\"rank\") == 1).select(\"VendorID\", \"Borough\", \"count\", \"month\")\n",
        "\n",
        "# Mostrar o resultado\n",
        "most_frequent_df.show()\n"
      ],
      "metadata": {
        "id": "vU-iP5xuy3WG"
      },
      "execution_count": null,
      "outputs": []
    },
    {
      "cell_type": "code",
      "source": [
        "window_spec = Window.partitionBy(\"month\").orderBy(col(\"trip_count\").desc())\n",
        "yellow_tripdata_df_2022 = yellow_tripdata_df_2022.withColumn(\"month\", month(\"tpep_pickup_datetime\"))\n",
        "\n",
        "# Contagem de viagens por mês e DOLocationID, aplicação do ranking\n",
        "top_destinations = joined_df.groupBy(\"month\", \"DOLocationID\") \\\n",
        "                            .count() \\\n",
        "                            .withColumnRenamed(\"count\", \"trip_count\") \\\n",
        "                            .withColumn(\"rank\", rank().over(window_spec)) \\\n",
        "                            .filter(col(\"rank\") <= 5)  # Considerando os top-3 destinos\n",
        "\n",
        "# Mostrar os resultados\n",
        "top_destinations.show()\n"
      ],
      "metadata": {
        "colab": {
          "base_uri": "https://localhost:8080/"
        },
        "id": "9NBz4AjvlUzL",
        "outputId": "6132cc27-f3fa-4358-ec94-9404608a50e0"
      },
      "execution_count": null,
      "outputs": [
        {
          "output_type": "stream",
          "name": "stdout",
          "text": [
            "+-----+------------+----------+----+\n",
            "|month|DOLocationID|trip_count|rank|\n",
            "+-----+------------+----------+----+\n",
            "|    1|         236|    123467|   1|\n",
            "|    1|         237|    106353|   2|\n",
            "|    1|         141|     78339|   3|\n",
            "|    1|         239|     75052|   4|\n",
            "|    1|         161|     74707|   5|\n",
            "|    2|         236|    139050|   1|\n",
            "|    2|         237|    124630|   2|\n",
            "|    2|         161|     99171|   3|\n",
            "|    2|         170|     88876|   4|\n",
            "|    2|         239|     88384|   5|\n",
            "|    3|         236|    157834|   1|\n",
            "|    3|         237|    147557|   2|\n",
            "|    3|         161|    134942|   3|\n",
            "|    3|         170|    111112|   4|\n",
            "|    3|         230|    106047|   5|\n",
            "|    4|         236|    154968|   1|\n",
            "|    4|         237|    148961|   2|\n",
            "|    4|         161|    131122|   3|\n",
            "|    4|         230|    109244|   4|\n",
            "|    4|         170|    105305|   5|\n",
            "+-----+------------+----------+----+\n",
            "only showing top 20 rows\n",
            "\n"
          ]
        }
      ]
    },
    {
      "cell_type": "code",
      "source": [
        "yellow_tripdata_df_2022 = yellow_tripdata_df.withColumn(\"month\", month(\"tpep_pickup_datetime\"))\n",
        "\n",
        "# Definindo a especificação da janela para ranking de destinos por mês\n",
        "window_spec = Window.partitionBy(\"month\").orderBy(col(\"trip_count\").desc())\n",
        "\n",
        "# Contagem de viagens por mês e DOLocationID, aplicação do ranking\n",
        "top_destinations = yellow_tripdata_df_2022.groupBy(\"month\", \"DOLocationID\") \\\n",
        "                                          .count() \\\n",
        "                                          .withColumnRenamed(\"count\", \"trip_count\") \\\n",
        "                                          .withColumn(\"rank\", rank().over(window_spec))\n",
        "\n",
        "# Join com a tabela de lookup de zona para incluir o nome do bairro\n",
        "top_destinations_with_borough = top_destinations.join(taxi_zone_lookup_df,\n",
        "                                                      top_destinations.DOLocationID == taxi_zone_lookup_df.LocationID,\n",
        "                                                      \"left_outer\") \\\n",
        "                                                .select(\"month\", \"DOLocationID\", \"Borough\", \"trip_count\", \"rank\")\n",
        "\n",
        "# Filtrando para mostrar apenas os top 5 destinos por mês\n",
        "top_5_destinations = top_destinations_with_borough.filter(col(\"rank\") <= 5)\n",
        "\n",
        "# Mostrar os resultados\n",
        "top_5_destinations.show()\n"
      ],
      "metadata": {
        "colab": {
          "base_uri": "https://localhost:8080/"
        },
        "id": "hEP-sAFnouJA",
        "outputId": "4058ab98-5e34-46b0-c6e9-6c7c23520150"
      },
      "execution_count": null,
      "outputs": [
        {
          "output_type": "stream",
          "name": "stdout",
          "text": [
            "+-----+------------+---------+----------+----+\n",
            "|month|DOLocationID|  Borough|trip_count|rank|\n",
            "+-----+------------+---------+----------+----+\n",
            "|    1|         236|Manhattan|    123469|   1|\n",
            "|    1|         237|Manhattan|    106354|   2|\n",
            "|    1|         141|Manhattan|     78339|   3|\n",
            "|    1|         239|Manhattan|     75052|   4|\n",
            "|    1|         161|Manhattan|     74708|   5|\n",
            "|    2|         236|Manhattan|    139050|   1|\n",
            "|    2|         237|Manhattan|    124630|   2|\n",
            "|    2|         161|Manhattan|     99171|   3|\n",
            "|    2|         170|Manhattan|     88876|   4|\n",
            "|    2|         239|Manhattan|     88384|   5|\n",
            "|    3|         236|Manhattan|    157834|   1|\n",
            "|    3|         237|Manhattan|    147557|   2|\n",
            "|    3|         161|Manhattan|    134942|   3|\n",
            "|    3|         170|Manhattan|    111112|   4|\n",
            "|    3|         230|Manhattan|    106047|   5|\n",
            "|    4|         236|Manhattan|    154968|   1|\n",
            "|    4|         237|Manhattan|    148961|   2|\n",
            "|    4|         161|Manhattan|    131122|   3|\n",
            "|    4|         230|Manhattan|    109244|   4|\n",
            "|    4|         170|Manhattan|    105305|   5|\n",
            "+-----+------------+---------+----------+----+\n",
            "only showing top 20 rows\n",
            "\n"
          ]
        }
      ]
    },
    {
      "cell_type": "code",
      "source": [
        "joined_df = yellow_tripdata_df.join(taxi_zone_lookup_df, yellow_tripdata_df.DOLocationID == taxi_zone_lookup_df.LocationID)\n",
        "\n",
        "# Agrupar por mês, DOLocationID e Borough, e contar os VendorIDs únicos\n",
        "monthly_destination_stats = joined_df.groupBy(\"month\", \"DOLocationID\", \"Borough\") \\\n",
        "                                     .agg(count(col(\"VendorID\")).alias(\"taxist_count\"))\n",
        "\n",
        "# Definir a janela de partição por mês e ordenar por taxist_count decrescente\n",
        "window_spec = Window.partitionBy(\"month\").orderBy(desc(\"taxist_count\"))\n",
        "\n",
        "# Aplicar a função rank e filtrar os top 5 destinos por mês\n",
        "top_destinations = monthly_destination_stats.withColumn(\"rank\", rank().over(window_spec)) \\\n",
        "                                            .filter(col(\"rank\") <= 5)\n",
        "\n",
        "# Mostrar os resultados\n",
        "top_destinations.select(\"month\", \"DOLocationID\", \"Borough\", \"taxist_count\").show()\n"
      ],
      "metadata": {
        "colab": {
          "base_uri": "https://localhost:8080/"
        },
        "id": "l27ZPTngsZf0",
        "outputId": "f83fd20f-4e86-4e26-8af6-348e9ea94d6a"
      },
      "execution_count": null,
      "outputs": [
        {
          "output_type": "stream",
          "name": "stdout",
          "text": [
            "+-----+------------+---------+------------+\n",
            "|month|DOLocationID|  Borough|taxist_count|\n",
            "+-----+------------+---------+------------+\n",
            "|    1|         236|Manhattan|      123449|\n",
            "|    1|         237|Manhattan|      106348|\n",
            "|    1|         141|Manhattan|       78326|\n",
            "|    1|         239|Manhattan|       75037|\n",
            "|    1|         161|Manhattan|       74698|\n",
            "|    2|         236|Manhattan|      139057|\n",
            "|    2|         237|Manhattan|      124627|\n",
            "|    2|         161|Manhattan|       99171|\n",
            "|    2|         170|Manhattan|       88869|\n",
            "|    2|         239|Manhattan|       88392|\n",
            "|    3|         236|Manhattan|      157814|\n",
            "|    3|         237|Manhattan|      147542|\n",
            "|    3|         161|Manhattan|      134937|\n",
            "|    3|         170|Manhattan|      111093|\n",
            "|    3|         230|Manhattan|      106035|\n",
            "|    4|         236|Manhattan|      154956|\n",
            "|    4|         237|Manhattan|      148957|\n",
            "|    4|         161|Manhattan|      131115|\n",
            "|    4|         230|Manhattan|      109231|\n",
            "|    4|         170|Manhattan|      105308|\n",
            "+-----+------------+---------+------------+\n",
            "only showing top 20 rows\n",
            "\n"
          ]
        }
      ]
    },
    {
      "cell_type": "code",
      "source": [
        "!mkdir -p pasta_shapefile\n",
        "\n",
        "!wget -O /content/pasta_shapefile/taxi_zones.zip https://d37ci6vzurychx.cloudfront.net/misc/taxi_zones.zip\n",
        "!unzip -o /content/pasta_shapefile/taxi_zones.zip -d /content/pasta_shapefile/\n"
      ],
      "metadata": {
        "id": "erbJf1465d6z"
      },
      "execution_count": null,
      "outputs": []
    },
    {
      "cell_type": "code",
      "source": [
        "import geopandas as gpd\n",
        "gdf = gpd.read_file(\"/content/pasta_shapefile/taxi_zones.shp\")\n",
        "\n",
        "# Calcular adjacências\n",
        "gdf['adjacent'] = gdf.apply(lambda row: gdf[gdf.geometry.touches(row.geometry)]['LocationID'].tolist(), axis=1)\n",
        "\n",
        "# Exibir os resultados\n",
        "print(gdf[['LocationID', 'adjacent']])\n"
      ],
      "metadata": {
        "colab": {
          "base_uri": "https://localhost:8080/"
        },
        "id": "aCw61fpc50Ez",
        "outputId": "b0c489eb-80dc-416e-cbfd-1b380575aafd"
      },
      "execution_count": null,
      "outputs": [
        {
          "output_type": "stream",
          "name": "stdout",
          "text": [
            "     LocationID                  adjacent\n",
            "0             1                        []\n",
            "1             2                     [132]\n",
            "2             3       [51, 184, 242, 254]\n",
            "3             4            [79, 148, 224]\n",
            "4             5                        []\n",
            "..          ...                       ...\n",
            "258         259                     [254]\n",
            "259         260                     [157]\n",
            "260         261            [88, 209, 231]\n",
            "261         262       [75, 140, 141, 263]\n",
            "262         263  [75, 140, 141, 236, 262]\n",
            "\n",
            "[263 rows x 2 columns]\n"
          ]
        }
      ]
    },
    {
      "cell_type": "code",
      "source": [
        "most_visited_destinations = yellow_tripdata_df \\\n",
        "    .groupBy(\"month\", col(\"DOLocationID\")) \\\n",
        "    .agg(count(\"*\").alias(\"trip_count\")) \\\n",
        "    .withColumn(\"rank\", rank().over(window_spec)) \\\n",
        "    .filter(col(\"rank\") <= 5) \\\n",
        "    .drop(\"rank\")\n",
        "\n",
        "# Juntar com os dados de lookup para obter o Borough\n",
        "most_visited_destinations_with_borough = most_visited_destinations.join(taxi_zone_lookup_df,\n",
        "                                                                       most_visited_destinations.DOLocationID == taxi_zone_lookup_df.LocationID,\n",
        "                                                                       \"inner\") \\\n",
        "    .select(\"month\", \"DOLocationID\", \"Borough\", \"trip_count\")\n",
        "\n",
        "# Carregar os dados de geolocalização e calcular adjacências\n",
        "gdf = gpd.read_file(\"/content/pasta_shapefile/taxi_zones.shp\")\n",
        "gdf['adjacent'] = gdf.apply(lambda row: gdf[gdf.geometry.touches(row.geometry)]['LocationID'].tolist(), axis=1)\n",
        "\n",
        "# Converter o GeoDataFrame para um DataFrame do Pandas\n",
        "adjacency_df = gdf[['LocationID', 'adjacent']].copy()\n",
        "\n",
        "# Converter o DataFrame do Pandas para um DataFrame do Spark\n",
        "adjacency_spark_df = spark.createDataFrame(adjacency_df)\n",
        "\n",
        "# Juntar os dados de adjacência ao resultado final\n",
        "final_result = most_visited_destinations_with_borough.join(adjacency_spark_df,\n",
        "                                                           most_visited_destinations_with_borough.DOLocationID == adjacency_spark_df.LocationID,\n",
        "                                                           \"inner\") \\\n",
        "    .select(\"month\", \"DOLocationID\", \"Borough\", \"trip_count\", \"adjacent\")\n",
        "\n",
        "# Mostrar os resultados\n",
        "final_result.orderBy(\"month\", \"trip_count\", ascending=[True, False]).show(truncate=False)\n"
      ],
      "metadata": {
        "colab": {
          "base_uri": "https://localhost:8080/"
        },
        "id": "jJv-wAvw-0_8",
        "outputId": "f950e950-de5d-4063-c956-d7f3d8939162"
      },
      "execution_count": null,
      "outputs": [
        {
          "output_type": "stream",
          "name": "stdout",
          "text": [
            "+-----+------------+---------+----------+------------------------------+\n",
            "|month|DOLocationID|Borough  |trip_count|adjacent                      |\n",
            "+-----+------------+---------+----------+------------------------------+\n",
            "|1    |236         |Manhattan|123449    |[141, 237, 263]               |\n",
            "|1    |237         |Manhattan|106348    |[43, 141, 162, 163, 229, 236] |\n",
            "|1    |141         |Manhattan|78326     |[162, 236, 237, 262, 263]     |\n",
            "|1    |239         |Manhattan|75037     |[142, 238]                    |\n",
            "|1    |161         |Manhattan|74698     |[100, 162, 163, 164, 170]     |\n",
            "|2    |236         |Manhattan|139057    |[141, 237, 263]               |\n",
            "|2    |237         |Manhattan|124627    |[43, 141, 162, 163, 229, 236] |\n",
            "|2    |161         |Manhattan|99171     |[100, 162, 163, 164, 170]     |\n",
            "|2    |170         |Manhattan|88869     |[107, 137, 161, 162, 164, 234]|\n",
            "|2    |239         |Manhattan|88392     |[142, 238]                    |\n",
            "|3    |236         |Manhattan|157814    |[141, 237, 263]               |\n",
            "|3    |237         |Manhattan|147542    |[43, 141, 162, 163, 229, 236] |\n",
            "|3    |161         |Manhattan|134937    |[100, 162, 163, 164, 170]     |\n",
            "|3    |170         |Manhattan|111093    |[107, 137, 161, 162, 164, 234]|\n",
            "|3    |230         |Manhattan|106035    |[100, 163, 164]               |\n",
            "|4    |236         |Manhattan|154956    |[141, 237, 263]               |\n",
            "|4    |237         |Manhattan|148957    |[43, 141, 162, 163, 229, 236] |\n",
            "|4    |161         |Manhattan|131115    |[100, 162, 163, 164, 170]     |\n",
            "|4    |230         |Manhattan|109231    |[100, 163, 164]               |\n",
            "|4    |170         |Manhattan|105308    |[107, 137, 161, 162, 164, 234]|\n",
            "+-----+------------+---------+----------+------------------------------+\n",
            "only showing top 20 rows\n",
            "\n"
          ]
        }
      ]
    }
  ]
}